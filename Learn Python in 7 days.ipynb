{
 "cells": [
  {
   "cell_type": "markdown",
   "metadata": {},
   "source": [
    "Python - is very basic and easy to understand.\n",
    "\n",
    "Python is scrpting language .\n",
    "Python has no compiler.\n",
    "\n",
    "Python has interpreter.\n",
    "It has classes and objects.\n",
    "\n",
    "\n",
    "Lets understand what we should know.\n",
    "\n",
    "1) Hello Word!!!\n",
    "2) Variables and types(data types)\n",
    "3) list\n",
    "4) basic oprators\n",
    "5) strings\n",
    "6) conditions\n",
    "7) lopps\n",
    "8) functions\n",
    "9) classes and objects\n",
    "10) dictionaries\n",
    "11) modules and packages\n",
    "\n",
    "\n",
    "Python part in 7 days \n",
    "strating from today.\n",
    "\n",
    "\n",
    "Data Science stuff and ML part\n",
    "\n",
    "1) numpy - a very good library for mathematical computation.\n",
    "2) pandas - data pre processing\n",
    "3) sci-kit learn all ML algorithms \n",
    "4) H20 - libraries are available\n",
    "5) seaborn - visiualization\n",
    "6) matplotlib - visiualization\n",
    "\n",
    "\n",
    "\n",
    "Data Science part i will implement projects\n",
    "\n",
    "Maths - is important \n",
    "\n"
   ]
  }
 ],
 "metadata": {
  "kernelspec": {
   "display_name": "Python 3",
   "language": "python",
   "name": "python3"
  },
  "language_info": {
   "codemirror_mode": {
    "name": "ipython",
    "version": 3
   },
   "file_extension": ".py",
   "mimetype": "text/x-python",
   "name": "python",
   "nbconvert_exporter": "python",
   "pygments_lexer": "ipython3",
   "version": "3.7.6"
  }
 },
 "nbformat": 4,
 "nbformat_minor": 4
}
